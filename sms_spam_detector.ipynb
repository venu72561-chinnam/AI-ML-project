{
  "nbformat": 4,
  "nbformat_minor": 0,
  "metadata": {
    "colab": {
      "provenance": [],
      "authorship_tag": "ABX9TyPpaFeBfse3odiDz4OJSYJR",
      "include_colab_link": true
    },
    "kernelspec": {
      "name": "python3",
      "display_name": "Python 3"
    },
    "language_info": {
      "name": "python"
    }
  },
  "cells": [
    {
      "cell_type": "markdown",
      "metadata": {
        "id": "view-in-github",
        "colab_type": "text"
      },
      "source": [
        "<a href=\"https://colab.research.google.com/github/venu72561-chinnam/AI-ML-project/blob/main/sms_spam_detector.ipynb\" target=\"_parent\"><img src=\"https://colab.research.google.com/assets/colab-badge.svg\" alt=\"Open In Colab\"/></a>"
      ]
    },
    {
      "cell_type": "code",
      "execution_count": 2,
      "metadata": {
        "colab": {
          "base_uri": "https://localhost:8080/",
          "height": 630
        },
        "id": "Rg441fLXXrZM",
        "outputId": "b54b3cc0-45be-411c-cf28-a8686d2c6c82"
      },
      "outputs": [
        {
          "output_type": "stream",
          "name": "stdout",
          "text": [
            "Model Accuracy: 0.98\n",
            "Colab notebook detected. To show errors in colab notebook, set debug=True in launch()\n",
            "* Running on public URL: https://0e7434b80fe44830eb.gradio.live\n",
            "\n",
            "This share link expires in 1 week. For free permanent hosting and GPU upgrades, run `gradio deploy` from the terminal in the working directory to deploy to Hugging Face Spaces (https://huggingface.co/spaces)\n"
          ]
        },
        {
          "output_type": "display_data",
          "data": {
            "text/plain": [
              "<IPython.core.display.HTML object>"
            ],
            "text/html": [
              "<div><iframe src=\"https://0e7434b80fe44830eb.gradio.live\" width=\"100%\" height=\"500\" allow=\"autoplay; camera; microphone; clipboard-read; clipboard-write;\" frameborder=\"0\" allowfullscreen></iframe></div>"
            ]
          },
          "metadata": {}
        }
      ],
      "source": [
        "\n",
        "# !pip install pandas numpy scikit-learn gradio\n",
        "\n",
        "import pandas as pd\n",
        "import numpy as np\n",
        "from sklearn.feature_extraction.text import CountVectorizer\n",
        "from sklearn.model_selection import train_test_split\n",
        "from sklearn.linear_model import LogisticRegression\n",
        "from sklearn.metrics import accuracy_score\n",
        "import gradio as gr\n",
        "\n",
        "df = pd.read_csv(\"spam.csv\", encoding=\"latin1\", engine=\"python\", on_bad_lines=\"skip\")\n",
        "\n",
        "df = df[[\"v1\", \"v2\"]].rename(columns={\"v1\": \"label\", \"v2\": \"text\"})\n",
        "\n",
        "def to01(v):\n",
        "    s = str(v).strip().lower()\n",
        "    if s == \"spam\": return 1\n",
        "    if s == \"ham\":  return 0\n",
        "\n",
        "    if s in {\"1\", \"true\", \"yes\"}: return 1\n",
        "    if s in {\"0\", \"false\", \"no\"}: return 0\n",
        "    return 1 if s else 0\n",
        "\n",
        "df[\"label\"] = df[\"label\"].apply(to01).astype(int)\n",
        "\n",
        "\n",
        "df[\"text\"] = df[\"text\"].astype(str).fillna(\"\")\n",
        "\n",
        "vectorizer = CountVectorizer(ngram_range=(1, 2), min_df=2)\n",
        "X = vectorizer.fit_transform(df[\"text\"])\n",
        "y = df[\"label\"].values\n",
        "\n",
        "X_train, X_test, y_train, y_test = train_test_split(\n",
        "    X, y, test_size=0.30, random_state=0, stratify=y\n",
        ")\n",
        "\n",
        "model = LogisticRegression(max_iter=1000)\n",
        "model.fit(X_train, y_train)\n",
        "\n",
        "y_pred = model.predict(X_test)\n",
        "accuracy = accuracy_score(y_test, y_pred)\n",
        "print(f\"Model Accuracy: {accuracy:.2f}\")\n",
        "def predict(text):\n",
        "\n",
        "    input_data = vectorizer.transform([text])\n",
        "\n",
        "    prediction = model.predict(input_data)\n",
        "\n",
        "    return \"Spam\" if prediction[0] == 1 else \"Not Spam\"\n",
        "\n",
        "interface = gr.Interface(\n",
        "    fn=predict,\n",
        "    inputs=gr.Textbox(lines=2, placeholder=\"Enter SMS text here...\"),\n",
        "    outputs=\"text\",\n",
        "    title=\"SMS Spam Detector\",\n",
        "    description=\"Enter an SMS message to classify it as Spam or Not Spam.\"\n",
        ")\n",
        "\n",
        "if __name__ == \"__main__\":\n",
        "    interface.launch(share=True)\n"
      ]
    }
  ]
}