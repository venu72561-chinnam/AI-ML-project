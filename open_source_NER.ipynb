{
  "nbformat": 4,
  "nbformat_minor": 0,
  "metadata": {
    "colab": {
      "provenance": [],
      "authorship_tag": "ABX9TyPKk2/w/gsmWInKa0v7ZvI9",
      "include_colab_link": true
    },
    "kernelspec": {
      "name": "python3",
      "display_name": "Python 3"
    },
    "language_info": {
      "name": "python"
    }
  },
  "cells": [
    {
      "cell_type": "markdown",
      "metadata": {
        "id": "view-in-github",
        "colab_type": "text"
      },
      "source": [
        "<a href=\"https://colab.research.google.com/github/venu72561-chinnam/AI-ML-project/blob/main/open_source_NER.ipynb\" target=\"_parent\"><img src=\"https://colab.research.google.com/assets/colab-badge.svg\" alt=\"Open In Colab\"/></a>"
      ]
    },
    {
      "cell_type": "code",
      "execution_count": null,
      "metadata": {
        "colab": {
          "base_uri": "https://localhost:8080/"
        },
        "id": "xHOd4orA8gK1",
        "outputId": "4c140c69-2671-4603-bbbc-6600d03ad9f0"
      },
      "outputs": [
        {
          "output_type": "stream",
          "name": "stdout",
          "text": [
            "Requirement already satisfied: spacy in /usr/local/lib/python3.12/dist-packages (3.8.7)\n",
            "Requirement already satisfied: spacy-legacy<3.1.0,>=3.0.11 in /usr/local/lib/python3.12/dist-packages (from spacy) (3.0.12)\n",
            "Requirement already satisfied: spacy-loggers<2.0.0,>=1.0.0 in /usr/local/lib/python3.12/dist-packages (from spacy) (1.0.5)\n",
            "Requirement already satisfied: murmurhash<1.1.0,>=0.28.0 in /usr/local/lib/python3.12/dist-packages (from spacy) (1.0.13)\n",
            "Requirement already satisfied: cymem<2.1.0,>=2.0.2 in /usr/local/lib/python3.12/dist-packages (from spacy) (2.0.11)\n",
            "Requirement already satisfied: preshed<3.1.0,>=3.0.2 in /usr/local/lib/python3.12/dist-packages (from spacy) (3.0.10)\n",
            "Requirement already satisfied: thinc<8.4.0,>=8.3.4 in /usr/local/lib/python3.12/dist-packages (from spacy) (8.3.6)\n",
            "Requirement already satisfied: wasabi<1.2.0,>=0.9.1 in /usr/local/lib/python3.12/dist-packages (from spacy) (1.1.3)\n",
            "Requirement already satisfied: srsly<3.0.0,>=2.4.3 in /usr/local/lib/python3.12/dist-packages (from spacy) (2.5.1)\n",
            "Requirement already satisfied: catalogue<2.1.0,>=2.0.6 in /usr/local/lib/python3.12/dist-packages (from spacy) (2.0.10)\n",
            "Requirement already satisfied: weasel<0.5.0,>=0.1.0 in /usr/local/lib/python3.12/dist-packages (from spacy) (0.4.1)\n",
            "Requirement already satisfied: typer<1.0.0,>=0.3.0 in /usr/local/lib/python3.12/dist-packages (from spacy) (0.17.4)\n",
            "Requirement already satisfied: tqdm<5.0.0,>=4.38.0 in /usr/local/lib/python3.12/dist-packages (from spacy) (4.67.1)\n",
            "Requirement already satisfied: numpy>=1.19.0 in /usr/local/lib/python3.12/dist-packages (from spacy) (2.0.2)\n",
            "Requirement already satisfied: requests<3.0.0,>=2.13.0 in /usr/local/lib/python3.12/dist-packages (from spacy) (2.32.4)\n",
            "Requirement already satisfied: pydantic!=1.8,!=1.8.1,<3.0.0,>=1.7.4 in /usr/local/lib/python3.12/dist-packages (from spacy) (2.11.9)\n",
            "Requirement already satisfied: jinja2 in /usr/local/lib/python3.12/dist-packages (from spacy) (3.1.6)\n",
            "Requirement already satisfied: setuptools in /usr/local/lib/python3.12/dist-packages (from spacy) (75.2.0)\n",
            "Requirement already satisfied: packaging>=20.0 in /usr/local/lib/python3.12/dist-packages (from spacy) (25.0)\n",
            "Requirement already satisfied: langcodes<4.0.0,>=3.2.0 in /usr/local/lib/python3.12/dist-packages (from spacy) (3.5.0)\n",
            "Requirement already satisfied: language-data>=1.2 in /usr/local/lib/python3.12/dist-packages (from langcodes<4.0.0,>=3.2.0->spacy) (1.3.0)\n",
            "Requirement already satisfied: annotated-types>=0.6.0 in /usr/local/lib/python3.12/dist-packages (from pydantic!=1.8,!=1.8.1,<3.0.0,>=1.7.4->spacy) (0.7.0)\n",
            "Requirement already satisfied: pydantic-core==2.33.2 in /usr/local/lib/python3.12/dist-packages (from pydantic!=1.8,!=1.8.1,<3.0.0,>=1.7.4->spacy) (2.33.2)\n",
            "Requirement already satisfied: typing-extensions>=4.12.2 in /usr/local/lib/python3.12/dist-packages (from pydantic!=1.8,!=1.8.1,<3.0.0,>=1.7.4->spacy) (4.15.0)\n",
            "Requirement already satisfied: typing-inspection>=0.4.0 in /usr/local/lib/python3.12/dist-packages (from pydantic!=1.8,!=1.8.1,<3.0.0,>=1.7.4->spacy) (0.4.1)\n",
            "Requirement already satisfied: charset_normalizer<4,>=2 in /usr/local/lib/python3.12/dist-packages (from requests<3.0.0,>=2.13.0->spacy) (3.4.3)\n",
            "Requirement already satisfied: idna<4,>=2.5 in /usr/local/lib/python3.12/dist-packages (from requests<3.0.0,>=2.13.0->spacy) (3.10)\n",
            "Requirement already satisfied: urllib3<3,>=1.21.1 in /usr/local/lib/python3.12/dist-packages (from requests<3.0.0,>=2.13.0->spacy) (2.5.0)\n",
            "Requirement already satisfied: certifi>=2017.4.17 in /usr/local/lib/python3.12/dist-packages (from requests<3.0.0,>=2.13.0->spacy) (2025.8.3)\n",
            "Requirement already satisfied: blis<1.4.0,>=1.3.0 in /usr/local/lib/python3.12/dist-packages (from thinc<8.4.0,>=8.3.4->spacy) (1.3.0)\n",
            "Requirement already satisfied: confection<1.0.0,>=0.0.1 in /usr/local/lib/python3.12/dist-packages (from thinc<8.4.0,>=8.3.4->spacy) (0.1.5)\n",
            "Requirement already satisfied: click>=8.0.0 in /usr/local/lib/python3.12/dist-packages (from typer<1.0.0,>=0.3.0->spacy) (8.2.1)\n",
            "Requirement already satisfied: shellingham>=1.3.0 in /usr/local/lib/python3.12/dist-packages (from typer<1.0.0,>=0.3.0->spacy) (1.5.4)\n",
            "Requirement already satisfied: rich>=10.11.0 in /usr/local/lib/python3.12/dist-packages (from typer<1.0.0,>=0.3.0->spacy) (13.9.4)\n",
            "Requirement already satisfied: cloudpathlib<1.0.0,>=0.7.0 in /usr/local/lib/python3.12/dist-packages (from weasel<0.5.0,>=0.1.0->spacy) (0.22.0)\n",
            "Requirement already satisfied: smart-open<8.0.0,>=5.2.1 in /usr/local/lib/python3.12/dist-packages (from weasel<0.5.0,>=0.1.0->spacy) (7.3.1)\n",
            "Requirement already satisfied: MarkupSafe>=2.0 in /usr/local/lib/python3.12/dist-packages (from jinja2->spacy) (3.0.2)\n",
            "Requirement already satisfied: marisa-trie>=1.1.0 in /usr/local/lib/python3.12/dist-packages (from language-data>=1.2->langcodes<4.0.0,>=3.2.0->spacy) (1.3.1)\n",
            "Requirement already satisfied: markdown-it-py>=2.2.0 in /usr/local/lib/python3.12/dist-packages (from rich>=10.11.0->typer<1.0.0,>=0.3.0->spacy) (4.0.0)\n",
            "Requirement already satisfied: pygments<3.0.0,>=2.13.0 in /usr/local/lib/python3.12/dist-packages (from rich>=10.11.0->typer<1.0.0,>=0.3.0->spacy) (2.19.2)\n",
            "Requirement already satisfied: wrapt in /usr/local/lib/python3.12/dist-packages (from smart-open<8.0.0,>=5.2.1->weasel<0.5.0,>=0.1.0->spacy) (1.17.3)\n",
            "Requirement already satisfied: mdurl~=0.1 in /usr/local/lib/python3.12/dist-packages (from markdown-it-py>=2.2.0->rich>=10.11.0->typer<1.0.0,>=0.3.0->spacy) (0.1.2)\n"
          ]
        }
      ],
      "source": [
        "!pip install spacy"
      ]
    },
    {
      "cell_type": "code",
      "source": [
        "import spacy"
      ],
      "metadata": {
        "id": "FrZutNoj82qm"
      },
      "execution_count": null,
      "outputs": []
    },
    {
      "cell_type": "code",
      "source": [
        "from spacy import displacy"
      ],
      "metadata": {
        "id": "DhhUefcL9Bh9"
      },
      "execution_count": null,
      "outputs": []
    },
    {
      "cell_type": "code",
      "source": [
        "import pandas as pd\n",
        "import matplotlib.pyplot as plt"
      ],
      "metadata": {
        "id": "YQwE1eeC9Izp"
      },
      "execution_count": null,
      "outputs": []
    },
    {
      "cell_type": "code",
      "source": [
        "import re"
      ],
      "metadata": {
        "id": "8TYlECBK9p_N"
      },
      "execution_count": null,
      "outputs": []
    },
    {
      "cell_type": "code",
      "source": [
        "from collections import Counter"
      ],
      "metadata": {
        "id": "VvQu_lM59wo8"
      },
      "execution_count": null,
      "outputs": []
    },
    {
      "cell_type": "code",
      "source": [
        "nlp = spacy.load(\"en_core_web_sm\")"
      ],
      "metadata": {
        "id": "rANW-1t1-cXr"
      },
      "execution_count": null,
      "outputs": []
    },
    {
      "cell_type": "code",
      "source": [
        "texts = [\n",
        "    \"Apple is looking at buying U.K. startup for $1 billion.\",\n",
        "    \"Barack Obama served as the 44th President of the United States.\",\n",
        "    \"Elon Musk founded SpaceX in 2002.\",\n",
        "    \"Google and Microsoft are competing in the field of Artificial Intelligence.\",\n",
        "    \"Amazon headquarters are located in Seattle.\",\n",
        "    \"Facebook rebranded to Meta in 2021.\",\n",
        "    \"In 2020, COVID-19 pandemic affected businesses worldwide.\"\n",
        "]"
      ],
      "metadata": {
        "id": "A1Id3Llm-p9O"
      },
      "execution_count": null,
      "outputs": []
    },
    {
      "cell_type": "code",
      "source": [
        "all_entities = []\n",
        "\n",
        "for text in texts:\n",
        "    doc = nlp(text)\n",
        "    for ent in doc.ents:\n",
        "        all_entities.append({\n",
        "            \"Text\": text,\n",
        "            \"Entity\": ent.text,\n",
        "            \"Label\": ent.label_,\n",
        "            \"Start_Char\": ent.start_char,\n",
        "            \"End_Char\": ent.end_char\n",
        "        })\n",
        "        print(f\"Entity: {ent.text:15} | Label: {ent.label_:10} | Start: {ent.start_char} | End: {ent.end_char}\")"
      ],
      "metadata": {
        "colab": {
          "base_uri": "https://localhost:8080/"
        },
        "id": "gpaWyrGP_GJi",
        "outputId": "c741ca37-4897-4d63-aef1-e4743c3d27da"
      },
      "execution_count": null,
      "outputs": [
        {
          "output_type": "stream",
          "name": "stdout",
          "text": [
            "Entity: Apple           | Label: ORG        | Start: 0 | End: 5\n",
            "Entity: U.K.            | Label: GPE        | Start: 27 | End: 31\n",
            "Entity: $1 billion      | Label: MONEY      | Start: 44 | End: 54\n",
            "Entity: Barack Obama    | Label: PERSON     | Start: 0 | End: 12\n",
            "Entity: 44th            | Label: ORDINAL    | Start: 27 | End: 31\n",
            "Entity: the United States | Label: GPE        | Start: 45 | End: 62\n",
            "Entity: Elon Musk       | Label: PERSON     | Start: 0 | End: 9\n",
            "Entity: 2002            | Label: DATE       | Start: 28 | End: 32\n",
            "Entity: Google          | Label: ORG        | Start: 0 | End: 6\n",
            "Entity: Microsoft       | Label: ORG        | Start: 11 | End: 20\n",
            "Entity: Artificial Intelligence | Label: ORG        | Start: 51 | End: 74\n",
            "Entity: Amazon          | Label: ORG        | Start: 0 | End: 6\n",
            "Entity: Seattle         | Label: GPE        | Start: 35 | End: 42\n",
            "Entity: Meta            | Label: ORG        | Start: 22 | End: 26\n",
            "Entity: 2021            | Label: DATE       | Start: 30 | End: 34\n",
            "Entity: 2020            | Label: DATE       | Start: 3 | End: 7\n"
          ]
        }
      ]
    },
    {
      "cell_type": "code",
      "source": [
        "df_entities = pd.DataFrame(all_entities)\n",
        "print(\"\\nEntities DataFrame:\")\n",
        "print(df_entities)"
      ],
      "metadata": {
        "colab": {
          "base_uri": "https://localhost:8080/"
        },
        "id": "9gotcEO8_dAx",
        "outputId": "fea3e382-eb26-4c32-f476-a7ff30bdc3f5"
      },
      "execution_count": null,
      "outputs": [
        {
          "output_type": "stream",
          "name": "stdout",
          "text": [
            "\n",
            "Entities DataFrame:\n",
            "                                                 Text  \\\n",
            "0   Apple is looking at buying U.K. startup for $1...   \n",
            "1   Apple is looking at buying U.K. startup for $1...   \n",
            "2   Apple is looking at buying U.K. startup for $1...   \n",
            "3   Barack Obama served as the 44th President of t...   \n",
            "4   Barack Obama served as the 44th President of t...   \n",
            "5   Barack Obama served as the 44th President of t...   \n",
            "6                   Elon Musk founded SpaceX in 2002.   \n",
            "7                   Elon Musk founded SpaceX in 2002.   \n",
            "8   Google and Microsoft are competing in the fiel...   \n",
            "9   Google and Microsoft are competing in the fiel...   \n",
            "10  Google and Microsoft are competing in the fiel...   \n",
            "11        Amazon headquarters are located in Seattle.   \n",
            "12        Amazon headquarters are located in Seattle.   \n",
            "13                Facebook rebranded to Meta in 2021.   \n",
            "14                Facebook rebranded to Meta in 2021.   \n",
            "15  In 2020, COVID-19 pandemic affected businesses...   \n",
            "\n",
            "                     Entity    Label  Start_Char  End_Char  \n",
            "0                     Apple      ORG           0         5  \n",
            "1                      U.K.      GPE          27        31  \n",
            "2                $1 billion    MONEY          44        54  \n",
            "3              Barack Obama   PERSON           0        12  \n",
            "4                      44th  ORDINAL          27        31  \n",
            "5         the United States      GPE          45        62  \n",
            "6                 Elon Musk   PERSON           0         9  \n",
            "7                      2002     DATE          28        32  \n",
            "8                    Google      ORG           0         6  \n",
            "9                 Microsoft      ORG          11        20  \n",
            "10  Artificial Intelligence      ORG          51        74  \n",
            "11                   Amazon      ORG           0         6  \n",
            "12                  Seattle      GPE          35        42  \n",
            "13                     Meta      ORG          22        26  \n",
            "14                     2021     DATE          30        34  \n",
            "15                     2020     DATE           3         7  \n"
          ]
        }
      ]
    },
    {
      "cell_type": "code",
      "source": [
        "grouped = df_entities.groupby(\"Label\")[\"Entity\"].apply(list).to_dict()\n",
        "for label, ents in grouped.items():\n",
        "    print(f\"{label}: {ents}\")"
      ],
      "metadata": {
        "colab": {
          "base_uri": "https://localhost:8080/"
        },
        "id": "0agchusLBLML",
        "outputId": "e0cd5d00-7ae9-4b67-b90f-8cb032ab7ec3"
      },
      "execution_count": null,
      "outputs": [
        {
          "output_type": "stream",
          "name": "stdout",
          "text": [
            "DATE: ['2002', '2021', '2020']\n",
            "GPE: ['U.K.', 'the United States', 'Seattle']\n",
            "MONEY: ['$1 billion']\n",
            "ORDINAL: ['44th']\n",
            "ORG: ['Apple', 'Google', 'Microsoft', 'Artificial Intelligence', 'Amazon', 'Meta']\n",
            "PERSON: ['Barack Obama', 'Elon Musk']\n"
          ]
        }
      ]
    },
    {
      "cell_type": "code",
      "source": [
        "for text in texts:\n",
        "    doc = nlp(text)\n",
        "    for sent in doc.sents:\n",
        "        print(f\"\\nSentence: {sent.text}\")\n",
        "        for ent in sent.ents:\n",
        "            print(f\" - {ent.text:15} | {ent.label_}\")"
      ],
      "metadata": {
        "colab": {
          "base_uri": "https://localhost:8080/"
        },
        "id": "-7PYtKecBdzP",
        "outputId": "3df5f3cd-b70e-411f-c0ce-00d64165f3cd"
      },
      "execution_count": null,
      "outputs": [
        {
          "output_type": "stream",
          "name": "stdout",
          "text": [
            "\n",
            "Sentence: Apple is looking at buying U.K. startup for $1 billion.\n",
            " - Apple           | ORG\n",
            " - U.K.            | GPE\n",
            " - $1 billion      | MONEY\n",
            "\n",
            "Sentence: Barack Obama served as the 44th President of the United States.\n",
            " - Barack Obama    | PERSON\n",
            " - 44th            | ORDINAL\n",
            " - the United States | GPE\n",
            "\n",
            "Sentence: Elon Musk founded SpaceX in 2002.\n",
            " - Elon Musk       | PERSON\n",
            " - 2002            | DATE\n",
            "\n",
            "Sentence: Google and Microsoft are competing in the field of Artificial Intelligence.\n",
            " - Google          | ORG\n",
            " - Microsoft       | ORG\n",
            " - Artificial Intelligence | ORG\n",
            "\n",
            "Sentence: Amazon headquarters are located in Seattle.\n",
            " - Amazon          | ORG\n",
            " - Seattle         | GPE\n",
            "\n",
            "Sentence: Facebook rebranded to Meta in 2021.\n",
            " - Meta            | ORG\n",
            " - 2021            | DATE\n",
            "\n",
            "Sentence: In 2020, COVID-19 pandemic affected businesses worldwide.\n",
            " - 2020            | DATE\n"
          ]
        }
      ]
    },
    {
      "cell_type": "code",
      "source": [
        "label_counts = Counter(df_entities[\"Label\"])\n",
        "print(label_counts)\n",
        "\n",
        "plt.bar(label_counts.keys(), label_counts.values())\n",
        "plt.title(\"Entity Label Frequency\")\n",
        "plt.xlabel(\"Entity Type\")\n",
        "plt.ylabel(\"Count\")\n",
        "plt.xticks(rotation=45)\n",
        "plt.show()"
      ],
      "metadata": {
        "colab": {
          "base_uri": "https://localhost:8080/",
          "height": 530
        },
        "id": "3mM0uAGcB2jr",
        "outputId": "a5145335-ea44-48f2-f616-5ec9972813cd"
      },
      "execution_count": null,
      "outputs": [
        {
          "output_type": "stream",
          "name": "stdout",
          "text": [
            "Counter({'ORG': 6, 'GPE': 3, 'DATE': 3, 'PERSON': 2, 'MONEY': 1, 'ORDINAL': 1})\n"
          ]
        },
        {
          "output_type": "display_data",
          "data": {
            "text/plain": [
              "<Figure size 640x480 with 1 Axes>"
            ],
            "image/png": "[encoded data removed]"
          },
          "metadata": {}
        }
      ]
    },
    {
      "cell_type": "code",
      "source": [
        "doc = nlp(texts[0])\n",
        "displacy.render(doc, style=\"ent\", jupyter=True)"
      ],
      "metadata": {
        "colab": {
          "base_uri": "https://localhost:8080/",
          "height": 52
        },
        "id": "DO60g16gCr9A",
        "outputId": "42c8e062-8110-4f0f-982f-bff817e69e43"
      },
      "execution_count": null,
      "outputs": [
        {
          "output_type": "display_data",
          "data": {
            "text/plain": [
              "<IPython.core.display.HTML object>"
            ],
            "text/html": [
              "<span class=\"tex2jax_ignore\"><div class=\"entities\" style=\"line-height: 2.5; direction: ltr\">\n",
              "<mark class=\"entity\" style=\"background: #7aecec; padding: 0.45em 0.6em; margin: 0 0.25em; line-height: 1; border-radius: 0.35em;\">\n",
              "    Apple\n",
              "    <span style=\"font-size: 0.8em; font-weight: bold; line-height: 1; border-radius: 0.35em; vertical-align: middle; margin-left: 0.5rem\">ORG</span>\n",
              "</mark>\n",
              " is looking at buying \n",
              "<mark class=\"entity\" style=\"background: #feca74; padding: 0.45em 0.6em; margin: 0 0.25em; line-height: 1; border-radius: 0.35em;\">\n",
              "    U.K.\n",
              "    <span style=\"font-size: 0.8em; font-weight: bold; line-height: 1; border-radius: 0.35em; vertical-align: middle; margin-left: 0.5rem\">GPE</span>\n",
              "</mark>\n",
              " startup for \n",
              "<mark class=\"entity\" style=\"background: #e4e7d2; padding: 0.45em 0.6em; margin: 0 0.25em; line-height: 1; border-radius: 0.35em;\">\n",
              "    $1 billion\n",
              "    <span style=\"font-size: 0.8em; font-weight: bold; line-height: 1; border-radius: 0.35em; vertical-align: middle; margin-left: 0.5rem\">MONEY</span>\n",
              "</mark>\n",
              ".</div></span>"
            ]
          },
          "metadata": {}
        }
      ]
    },
    {
      "cell_type": "code",
      "source": [
        "pattern = r\"\\b\\d{4}\\b\"  # regex for years\n",
        "for text in texts:\n",
        "    years = re.findall(pattern, text)\n",
        "    doc = nlp(text)\n",
        "    print(f\"\\nText: {text}\")\n",
        "    if years:\n",
        "        print(\"Regex Years Found:\", years)\n",
        "    for ent in doc.ents:\n",
        "        print(f\"NER: {ent.text:15} | Label: {ent.label_}\")"
      ],
      "metadata": {
        "colab": {
          "base_uri": "https://localhost:8080/"
        },
        "id": "v66V8QKtDJhO",
        "outputId": "fa4d8e1c-957c-4579-ed5c-2e85dc4deaa4"
      },
      "execution_count": null,
      "outputs": [
        {
          "output_type": "stream",
          "name": "stdout",
          "text": [
            "\n",
            "Text: Apple is looking at buying U.K. startup for $1 billion.\n",
            "NER: Apple           | Label: ORG\n",
            "NER: U.K.            | Label: GPE\n",
            "NER: $1 billion      | Label: MONEY\n",
            "\n",
            "Text: Barack Obama served as the 44th President of the United States.\n",
            "NER: Barack Obama    | Label: PERSON\n",
            "NER: 44th            | Label: ORDINAL\n",
            "NER: the United States | Label: GPE\n",
            "\n",
            "Text: Elon Musk founded SpaceX in 2002.\n",
            "Regex Years Found: ['2002']\n",
            "NER: Elon Musk       | Label: PERSON\n",
            "NER: 2002            | Label: DATE\n",
            "\n",
            "Text: Google and Microsoft are competing in the field of Artificial Intelligence.\n",
            "NER: Google          | Label: ORG\n",
            "NER: Microsoft       | Label: ORG\n",
            "NER: Artificial Intelligence | Label: ORG\n",
            "\n",
            "Text: Amazon headquarters are located in Seattle.\n",
            "NER: Amazon          | Label: ORG\n",
            "NER: Seattle         | Label: GPE\n",
            "\n",
            "Text: Facebook rebranded to Meta in 2021.\n",
            "Regex Years Found: ['2021']\n",
            "NER: Meta            | Label: ORG\n",
            "NER: 2021            | Label: DATE\n",
            "\n",
            "Text: In 2020, COVID-19 pandemic affected businesses worldwide.\n",
            "Regex Years Found: ['2020']\n",
            "NER: 2020            | Label: DATE\n"
          ]
        }
      ]
    }
  ]
}