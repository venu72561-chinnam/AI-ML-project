{
  "nbformat": 4,
  "nbformat_minor": 0,
  "metadata": {
    "colab": {
      "provenance": [],
      "authorship_tag": "ABX9TyPTV6w2r4M40iubCMKGtVC5",
      "include_colab_link": true
    },
    "kernelspec": {
      "name": "python3",
      "display_name": "Python 3"
    },
    "language_info": {
      "name": "python"
    }
  },
  "cells": [
    {
      "cell_type": "markdown",
      "metadata": {
        "id": "view-in-github",
        "colab_type": "text"
      },
      "source": [
        "<a href=\"https://colab.research.google.com/github/venu72561-chinnam/AI-ML-project/blob/main/machine_translation2.ipynb\" target=\"_parent\"><img src=\"https://colab.research.google.com/assets/colab-badge.svg\" alt=\"Open In Colab\"/></a>"
      ]
    },
    {
      "cell_type": "code",
      "execution_count": null,
      "metadata": {
        "colab": {
          "base_uri": "https://localhost:8080/"
        },
        "id": "D4glTIS6tr5Q",
        "outputId": "802f0431-6568-4279-ed8b-0ebf4bd37230"
      },
      "outputs": [
        {
          "metadata": {
            "tags": null
          },
          "name": "stderr",
          "output_type": "stream",
          "text": [
            "[nltk_data] Downloading package comtrans to /root/nltk_data...\n"
          ]
        },
        {
          "output_type": "stream",
          "name": "stdout",
          "text": [
            "Original Sentence: she is learning programming\n",
            "Translated Sentence: antinucléaire est apprentissage programmation\n"
          ]
        }
      ],
      "source": [
        "import nltk\n",
        "from nltk.translate import AlignedSent, IBMModel1\n",
        "from nltk.corpus import comtrans\n",
        "\n",
        "# Load a small corpus from NLTK\n",
        "nltk.download('comtrans')\n",
        "\n",
        "# Create aligned sentences (parallel corpus)\n",
        "aligned_sents = comtrans.aligned_sents()\n",
        "\n",
        "# Train a Statistical Machine Translation model (IBM Model 1)\n",
        "ibm_model = IBMModel1(aligned_sents, 5)  # Number of iterations\n",
        "\n",
        "# Translate a sentence manually using the translation model\n",
        "source_sentence = \"she is learning programming\"\n",
        "source_words = source_sentence.split()\n",
        "\n",
        "# Translate each word in the sentence using IBM Model 1\n",
        "translated_words = []\n",
        "for word in source_words:\n",
        "    # Get the translation probabilities for the word\n",
        "    translation_probs = ibm_model.translation_table[word]\n",
        "\n",
        "    # Select the best translation based on the highest probability\n",
        "    best_translation = max(translation_probs, key=translation_probs.get)\n",
        "\n",
        "    translated_words.append(best_translation)\n",
        "\n",
        "print(\"Original Sentence:\", source_sentence)\n",
        "print(\"Translated Sentence:\", \" \".join(translated_words))"
      ]
    }
  ]
}