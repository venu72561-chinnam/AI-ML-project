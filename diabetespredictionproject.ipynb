{
  "nbformat": 4,
  "nbformat_minor": 0,
  "metadata": {
    "colab": {
      "provenance": [],
      "authorship_tag": "ABX9TyP/FJuv1nMaXiWi/Aug6s1x",
      "include_colab_link": true
    },
    "kernelspec": {
      "name": "python3",
      "display_name": "Python 3"
    },
    "language_info": {
      "name": "python"
    }
  },
  "cells": [
    {
      "cell_type": "markdown",
      "metadata": {
        "id": "view-in-github",
        "colab_type": "text"
      },
      "source": [
        "<a href=\"https://colab.research.google.com/github/venu72561-chinnam/AI-ML-project/blob/main/diabetespredictionproject.ipynb\" target=\"_parent\"><img src=\"https://colab.research.google.com/assets/colab-badge.svg\" alt=\"Open In Colab\"/></a>"
      ]
    },
    {
      "cell_type": "code",
      "execution_count": 1,
      "metadata": {
        "id": "jnkxQr-HkFXi"
      },
      "outputs": [],
      "source": [
        "\n",
        "!pip install gradio -q\n",
        "import gradio as gr\n"
      ]
    },
    {
      "cell_type": "code",
      "source": [
        "from sklearn.datasets import load_diabetes"
      ],
      "metadata": {
        "id": "PvJHwR-0km86"
      },
      "execution_count": 2,
      "outputs": []
    },
    {
      "cell_type": "code",
      "source": [
        "from sklearn.tree import DecisionTreeRegressor"
      ],
      "metadata": {
        "id": "zHMx2V3akx2q"
      },
      "execution_count": 3,
      "outputs": []
    },
    {
      "cell_type": "code",
      "source": [
        "from sklearn.model_selection import train_test_split"
      ],
      "metadata": {
        "id": "wMcuLlVPk4yu"
      },
      "execution_count": 4,
      "outputs": []
    },
    {
      "cell_type": "code",
      "source": [
        "diabetes = load_diabetes()"
      ],
      "metadata": {
        "id": "9NyH8QTflRh9"
      },
      "execution_count": 5,
      "outputs": []
    },
    {
      "cell_type": "code",
      "source": [
        "X, y = diabetes.data, diabetes.target"
      ],
      "metadata": {
        "id": "XjjhcU-kli3K"
      },
      "execution_count": 6,
      "outputs": []
    },
    {
      "cell_type": "code",
      "source": [
        "clf = DecisionTreeRegressor(max_depth=9, random_state=42).fit(X, y)"
      ],
      "metadata": {
        "id": "WU9OH73ImNIe"
      },
      "execution_count": 7,
      "outputs": []
    },
    {
      "cell_type": "code",
      "source": [
        "def predict(bp, bmi, age):\n",
        "    data = [[0]*3 + [bp, bmi, 0, 0, 0, 0, age]]  # pick features manually\n",
        "    pred = clf.predict(data)[0]\n",
        "    return f\"Predicted Diabetes Risk Score: {pred:.2f}\""
      ],
      "metadata": {
        "id": "Ci-LDKfemk9Z"
      },
      "execution_count": 8,
      "outputs": []
    },
    {
      "cell_type": "code",
      "source": [
        "demo = gr.Interface(\n",
        "    fn=predict,\n",
        "    inputs=[gr.Number(label=\"Blood Pressure\"), gr.Number(label=\"BMI\"), gr.Number(label=\"Age\")],\n",
        "    outputs=\"text\",\n",
        "    title=\"Diabetes Risk Prediction (Decision Tree)\",\n",
        "    description=\"Predict diabetes progression risk score.\"\n",
        ")"
      ],
      "metadata": {
        "id": "HHuizuWMnSTV"
      },
      "execution_count": 9,
      "outputs": []
    },
    {
      "cell_type": "code",
      "source": [
        "demo.launch()"
      ],
      "metadata": {
        "colab": {
          "base_uri": "https://localhost:8080/",
          "height": 648
        },
        "id": "i0tG-klNnjCf",
        "outputId": "4c71faf5-9fb2-4a7d-b5f4-06fac6d1f3ae"
      },
      "execution_count": 10,
      "outputs": [
        {
          "output_type": "stream",
          "name": "stdout",
          "text": [
            "It looks like you are running Gradio on a hosted Jupyter notebook, which requires `share=True`. Automatically setting `share=True` (you can turn this off by setting `share=False` in `launch()` explicitly).\n",
            "\n",
            "Colab notebook detected. To show errors in colab notebook, set debug=True in launch()\n",
            "* Running on public URL: https://e95a99dc0b0ac6385d.gradio.live\n",
            "\n",
            "This share link expires in 1 week. For free permanent hosting and GPU upgrades, run `gradio deploy` from the terminal in the working directory to deploy to Hugging Face Spaces (https://huggingface.co/spaces)\n"
          ]
        },
        {
          "output_type": "display_data",
          "data": {
            "text/plain": [
              "<IPython.core.display.HTML object>"
            ],
            "text/html": [
              "<div><iframe src=\"https://e95a99dc0b0ac6385d.gradio.live\" width=\"100%\" height=\"500\" allow=\"autoplay; camera; microphone; clipboard-read; clipboard-write;\" frameborder=\"0\" allowfullscreen></iframe></div>"
            ]
          },
          "metadata": {}
        },
        {
          "output_type": "execute_result",
          "data": {
            "text/plain": []
          },
          "metadata": {},
          "execution_count": 10
        }
      ]
    },
    {
      "cell_type": "code",
      "source": [
        "from sklearn.model_selection import train_test_split\n",
        "from sklearn.tree import DecisionTreeRegressor\n",
        "from sklearn.ensemble import BaggingRegressor, RandomForestRegressor, GradientBoostingRegressor, AdaBoostRegressor\n",
        "import xgboost as xgb"
      ],
      "metadata": {
        "id": "ch-1Ou9XoNdn"
      },
      "execution_count": 11,
      "outputs": []
    },
    {
      "cell_type": "code",
      "source": [
        "# Train-test split\n",
        "X_train, X_test, y_train, y_test = train_test_split(X, y, test_size=0.2, random_state=42)"
      ],
      "metadata": {
        "id": "fsa-OHt2opCU"
      },
      "execution_count": 12,
      "outputs": []
    },
    {
      "cell_type": "code",
      "source": [
        "# Models\n",
        "models = {\n",
        "    \"Decision Tree\": DecisionTreeRegressor(max_depth=5, random_state=42),\n",
        "    \"Bagging\": BaggingRegressor(DecisionTreeRegressor(), n_estimators=50, random_state=42),\n",
        "    \"Random Forest\": RandomForestRegressor(n_estimators=100, random_state=42),\n",
        "    \"Gradient Boosting\": GradientBoostingRegressor(n_estimators=100, learning_rate=0.1, random_state=42),\n",
        "    \"AdaBoost\": AdaBoostRegressor(DecisionTreeRegressor(max_depth=3), n_estimators=100, learning_rate=0.1, random_state=42),\n",
        "    \"XGBoost\": xgb.XGBRegressor(n_estimators=100, learning_rate=0.1, max_depth=3, random_state=42, verbosity=0)\n",
        "}"
      ],
      "metadata": {
        "id": "OJYt2w3vpMCP"
      },
      "execution_count": 19,
      "outputs": []
    },
    {
      "cell_type": "code",
      "source": [
        "# Fit all models\n",
        "for name, model in models.items():\n",
        "    model.fit(X_train, y_train)"
      ],
      "metadata": {
        "id": "SjyvFllxqXZF"
      },
      "execution_count": 14,
      "outputs": []
    },
    {
      "cell_type": "code",
      "source": [
        "# Risk interpretation function\n",
        "def interpret_score(score):\n",
        "    if score < 100:\n",
        "        return \"Low Risk\"\n",
        "    elif 100 <= score < 180:\n",
        "        return \"Moderate Risk \"\n",
        "    else:\n",
        "        return \"High Risk \""
      ],
      "metadata": {
        "id": "nWfH8d_Tqpec"
      },
      "execution_count": 15,
      "outputs": []
    },
    {
      "cell_type": "code",
      "source": [
        "def predict(bp, bmi, age, model_name):\n",
        "    # pick features manually (bp, bmi, age)\n",
        "    data = [[0]*3 + [bp, bmi, 0, 0, 0, 0, age]]\n",
        "    pred = models[model_name].predict(data)[0]\n",
        "    category = interpret_score(pred)\n",
        "    return f\"{model_name} Prediction → Score: {pred:.2f} | Risk Level: {category}\""
      ],
      "metadata": {
        "id": "tN0KMohXrs1U"
      },
      "execution_count": 16,
      "outputs": []
    },
    {
      "cell_type": "code",
      "source": [
        "demo = gr.Interface(\n",
        "    fn=predict,\n",
        "    inputs=[\n",
        "        gr.Number(label=\"Blood Pressure\"),\n",
        "        gr.Number(label=\"BMI\"),\n",
        "        gr.Number(label=\"Age\"),\n",
        "        gr.Radio(list(models.keys()), label=\"Choose Model\")\n",
        "    ],\n",
        "    outputs=\"text\",\n",
        "    title=\"Diabetes Risk Prediction (Ensembling & Boosting)\",\n",
        "    description=\"Compare Decision Tree, Bagging, Random Forest, Gradient Boosting, AdaBoost, and XGBoost with interpretable risk levels.\"\n",
        ")"
      ],
      "metadata": {
        "id": "eF-1oaP9sOD6"
      },
      "execution_count": 17,
      "outputs": []
    },
    {
      "cell_type": "code",
      "source": [
        "demo.launch()"
      ],
      "metadata": {
        "colab": {
          "base_uri": "https://localhost:8080/",
          "height": 648
        },
        "id": "tcFzoJMesmY6",
        "outputId": "9558e451-cad9-48c0-e7ab-d9515d993f12"
      },
      "execution_count": 18,
      "outputs": [
        {
          "output_type": "stream",
          "name": "stdout",
          "text": [
            "It looks like you are running Gradio on a hosted Jupyter notebook, which requires `share=True`. Automatically setting `share=True` (you can turn this off by setting `share=False` in `launch()` explicitly).\n",
            "\n",
            "Colab notebook detected. To show errors in colab notebook, set debug=True in launch()\n",
            "* Running on public URL: https://f819416c400da95897.gradio.live\n",
            "\n",
            "This share link expires in 1 week. For free permanent hosting and GPU upgrades, run `gradio deploy` from the terminal in the working directory to deploy to Hugging Face Spaces (https://huggingface.co/spaces)\n"
          ]
        },
        {
          "output_type": "display_data",
          "data": {
            "text/plain": [
              "<IPython.core.display.HTML object>"
            ],
            "text/html": [
              "<div><iframe src=\"https://f819416c400da95897.gradio.live\" width=\"100%\" height=\"500\" allow=\"autoplay; camera; microphone; clipboard-read; clipboard-write;\" frameborder=\"0\" allowfullscreen></iframe></div>"
            ]
          },
          "metadata": {}
        },
        {
          "output_type": "execute_result",
          "data": {
            "text/plain": []
          },
          "metadata": {},
          "execution_count": 18
        }
      ]
    }
  ]
}