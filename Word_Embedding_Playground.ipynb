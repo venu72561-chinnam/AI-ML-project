{
  "nbformat": 4,
  "nbformat_minor": 0,
  "metadata": {
    "colab": {
      "provenance": [],
      "authorship_tag": "ABX9TyMgqFFpCBuVYiNFKyqWgDCT",
      "include_colab_link": true
    },
    "kernelspec": {
      "name": "python3",
      "display_name": "Python 3"
    },
    "language_info": {
      "name": "python"
    }
  },
  "cells": [
    {
      "cell_type": "markdown",
      "metadata": {
        "id": "view-in-github",
        "colab_type": "text"
      },
      "source": [
        "<a href=\"https://colab.research.google.com/github/venu72561-chinnam/AI-ML-project/blob/main/Word_Embedding_Playground.ipynb\" target=\"_parent\"><img src=\"https://colab.research.google.com/assets/colab-badge.svg\" alt=\"Open In Colab\"/></a>"
      ]
    },
    {
      "cell_type": "code",
      "execution_count": 1,
      "metadata": {
        "id": "1JwdSxeRRjzi"
      },
      "outputs": [],
      "source": [
        "!pip install \"numpy<2.0\" gensim spacy gradio -q"
      ]
    },
    {
      "cell_type": "code",
      "source": [
        "!python -m spacy download en_core_web_sm -q"
      ],
      "metadata": {
        "colab": {
          "base_uri": "https://localhost:8080/"
        },
        "id": "MY2vDWgzRuii",
        "outputId": "4c655398-3304-4fdf-cd20-5514f80faddf"
      },
      "execution_count": 2,
      "outputs": [
        {
          "output_type": "stream",
          "name": "stdout",
          "text": [
            "\u001b[38;5;2m✔ Download and installation successful\u001b[0m\n",
            "You can now load the package via spacy.load('en_core_web_sm')\n",
            "\u001b[38;5;3m⚠ Restart to reload dependencies\u001b[0m\n",
            "If you are in a Jupyter or Colab notebook, you may need to restart Python in\n",
            "order to load all the package's dependencies. You can do this by selecting the\n",
            "'Restart kernel' or 'Restart runtime' option.\n"
          ]
        }
      ]
    },
    {
      "cell_type": "code",
      "source": [
        "from gensim.models import Word2Vec"
      ],
      "metadata": {
        "id": "QyPtDHG1R-C7"
      },
      "execution_count": 3,
      "outputs": []
    },
    {
      "cell_type": "code",
      "source": [
        "import spacy"
      ],
      "metadata": {
        "id": "uvJUrYWaS3xo"
      },
      "execution_count": 4,
      "outputs": []
    },
    {
      "cell_type": "code",
      "source": [
        "import matplotlib.pyplot as plt\n",
        "import gradio as gr"
      ],
      "metadata": {
        "id": "-LC8OHweS_Gn"
      },
      "execution_count": 5,
      "outputs": []
    },
    {
      "cell_type": "code",
      "source": [
        "from sklearn.decomposition import PCA"
      ],
      "metadata": {
        "id": "0cAXZE5mTK4S"
      },
      "execution_count": 6,
      "outputs": []
    },
    {
      "cell_type": "code",
      "source": [
        "sentences = [\n",
        "    [\"king\", \"queen\", \"man\", \"woman\"],\n",
        "    [\"apple\", \"banana\", \"mango\", \"fruit\"],\n",
        "    [\"paris\", \"france\", \"tokyo\", \"japan\"],\n",
        "    [\"car\", \"bus\", \"train\", \"transport\"],\n",
        "]"
      ],
      "metadata": {
        "id": "rIwpGxZRTo3x"
      },
      "execution_count": 7,
      "outputs": []
    },
    {
      "cell_type": "code",
      "source": [
        "model=Word2Vec(sentences, vector_size=50, window=3, min_count=1, sg=1)"
      ],
      "metadata": {
        "id": "dxcb-j4wT8BE"
      },
      "execution_count": 8,
      "outputs": []
    },
    {
      "cell_type": "code",
      "source": [
        "nlp = spacy.load(\"en_core_web_sm\")"
      ],
      "metadata": {
        "id": "eQwJqt76UsHB"
      },
      "execution_count": 9,
      "outputs": []
    },
    {
      "cell_type": "code",
      "source": [
        "def word_vector(word):\n",
        "    try:\n",
        "        return model.wv[word].tolist()\n",
        "    except KeyError:\n",
        "        return f\"'{word}' not in vocabulary!\"\n",
        "\n",
        "def most_similar(word):\n",
        "    try:\n",
        "        return model.wv.most_similar(word, topn=5)\n",
        "    except KeyError:\n",
        "        return f\"'{word}' not in vocabulary!\"\n",
        "\n",
        "def analogy(word1, word2, word3):\n",
        "    try:\n",
        "        result = model.wv.most_similar(positive=[word1, word3], negative=[word2], topn=1)\n",
        "        return f\"{word1} - {word2} + {word3} ≈ {result[0][0]}\"\n",
        "    except KeyError as e:\n",
        "        return f\"Error: {str(e)}\"\n",
        "\n",
        "def similarity(word1, word2):\n",
        "    try:\n",
        "        return f\"Similarity({word1}, {word2}) = {nlp(word1).similarity(nlp(word2)):.3f}\"\n",
        "    except:\n",
        "        return \"Error calculating similarity.\"\n",
        "\n",
        "def visualize():\n",
        "    words = [\"king\", \"queen\", \"man\", \"woman\", \"apple\", \"banana\", \"car\", \"bus\"]\n",
        "    word_vectors = [model.wv[w] for w in words]\n",
        "    pca = PCA(n_components=2)\n",
        "    result = pca.fit_transform(word_vectors)\n",
        "\n",
        "    plt.figure(figsize=(6,5))\n",
        "    plt.scatter(result[:, 0], result[:, 1])\n",
        "    for i, word in enumerate(words):\n",
        "        plt.annotate(word, xy=(result[i, 0], result[i, 1]))\n",
        "    plt.title(\"Word Embedding Visualization\")\n",
        "    plt.savefig(\"embedding.png\")\n",
        "    return \"embedding.png\""
      ],
      "metadata": {
        "id": "iQTfi88kVKv7"
      },
      "execution_count": 10,
      "outputs": []
    },
    {
      "cell_type": "code",
      "source": [
        "# Get vector for a word\n",
        "print(\"Vector for 'king':\\n\", model.wv['king'])\n",
        "\n",
        "# Find similar words\n",
        "print(\"\\nMost similar to 'king':\\n\", model.wv.most_similar('king'))"
      ],
      "metadata": {
        "colab": {
          "base_uri": "https://localhost:8080/"
        },
        "id": "_IrwAGiFVUCz",
        "outputId": "afbf9514-5663-480c-add6-e6bef7d037d8"
      },
      "execution_count": 11,
      "outputs": [
        {
          "output_type": "stream",
          "name": "stdout",
          "text": [
            "Vector for 'king':\n",
            " [-0.0173568  -0.00289396  0.01895893 -0.01509898 -0.0107162   0.01863313\n",
            " -0.01794745  0.00765182  0.00133088  0.0133214   0.01662551 -0.00570157\n",
            " -0.00798463  0.01779583  0.00417929  0.01249788 -0.01889143  0.01918025\n",
            " -0.00269662 -0.01210423  0.00598507 -0.00091322  0.00941299 -0.00456604\n",
            " -0.00827568  0.0045558   0.01670877 -0.00999121  0.00533736 -0.01598111\n",
            " -0.01354669 -0.00093534 -0.01753546  0.00557888  0.00319719 -0.00463938\n",
            "  0.01000758  0.01949757  0.01690854 -0.00376045  0.0041163  -0.00800738\n",
            " -0.01648281  0.01255591 -0.00389836 -0.00133241 -0.00354266 -0.00907133\n",
            "  0.00812342 -0.00854036]\n",
            "\n",
            "Most similar to 'king':\n",
            " [('fruit', 0.17922037839889526), ('bus', 0.14386184513568878), ('banana', 0.09462708234786987), ('japan', 0.04007362946867943), ('tokyo', 0.023233918473124504), ('paris', 0.008223663084208965), ('transport', -0.015218674205243587), ('mango', -0.02837306447327137), ('train', -0.03443577140569687), ('apple', -0.03925943747162819)]\n"
          ]
        }
      ]
    },
    {
      "cell_type": "code",
      "source": [
        "# Analogy: king - man + woman = ?\n",
        "result = model.wv.most_similar(positive=['king','woman'], negative=['man'], topn=1)\n",
        "print(\"\\nAnalogy (king - man + woman):\", result)"
      ],
      "metadata": {
        "colab": {
          "base_uri": "https://localhost:8080/"
        },
        "id": "tCytJ7klVsuf",
        "outputId": "a9e91a4f-a2ac-4888-c529-2577e772b599"
      },
      "execution_count": 12,
      "outputs": [
        {
          "output_type": "stream",
          "name": "stdout",
          "text": [
            "\n",
            "Analogy (king - man + woman): [('fruit', 0.14145417511463165)]\n"
          ]
        }
      ]
    },
    {
      "cell_type": "code",
      "source": [
        "word1 = nlp(\"king\")\n",
        "word2 = nlp(\"queen\")\n",
        "word3 = nlp(\"man\")\n",
        "\n",
        "# Cosine similarity\n",
        "print(\"Similarity king vs queen:\", word1.similarity(word2))\n",
        "print(\"Similarity king vs man:\", word1.similarity(word3))"
      ],
      "metadata": {
        "colab": {
          "base_uri": "https://localhost:8080/"
        },
        "id": "QeAPYGSSWLF9",
        "outputId": "c4e79998-514a-4c9a-dd07-6c42d71d3c7a"
      },
      "execution_count": 13,
      "outputs": [
        {
          "output_type": "stream",
          "name": "stdout",
          "text": [
            "Similarity king vs queen: 0.42202005567919104\n",
            "Similarity king vs man: 0.7392017865690795\n"
          ]
        },
        {
          "output_type": "stream",
          "name": "stderr",
          "text": [
            "/tmp/ipython-input-1336200926.py:6: UserWarning: [W007] The model you're using has no word vectors loaded, so the result of the Doc.similarity method will be based on the tagger, parser and NER, which may not give useful similarity judgements. This may happen if you're using one of the small models, e.g. `en_core_web_sm`, which don't ship with word vectors and only use context-sensitive tensors. You can always add your own word vectors, or use one of the larger models instead if available.\n",
            "  print(\"Similarity king vs queen:\", word1.similarity(word2))\n",
            "/tmp/ipython-input-1336200926.py:7: UserWarning: [W007] The model you're using has no word vectors loaded, so the result of the Doc.similarity method will be based on the tagger, parser and NER, which may not give useful similarity judgements. This may happen if you're using one of the small models, e.g. `en_core_web_sm`, which don't ship with word vectors and only use context-sensitive tensors. You can always add your own word vectors, or use one of the larger models instead if available.\n",
            "  print(\"Similarity king vs man:\", word1.similarity(word3))\n"
          ]
        }
      ]
    },
    {
      "cell_type": "code",
      "source": [
        "words = [\"king\", \"queen\", \"man\", \"woman\", \"apple\", \"banana\", \"car\", \"bus\"]\n",
        "word_vectors = [model.wv[w] for w in words]"
      ],
      "metadata": {
        "id": "uWr2_UtdXBmk"
      },
      "execution_count": 14,
      "outputs": []
    },
    {
      "cell_type": "code",
      "source": [
        "pca = PCA(n_components=2)\n",
        "result = pca.fit_transform(word_vectors)"
      ],
      "metadata": {
        "id": "su4WNHdPXMTG"
      },
      "execution_count": 15,
      "outputs": []
    },
    {
      "cell_type": "code",
      "source": [
        "# Plot\n",
        "plt.figure(figsize=(8,6))\n",
        "plt.scatter(result[:, 0], result[:, 1])\n",
        "for i, word in enumerate(words):\n",
        "    plt.annotate(word, xy=(result[i, 0], result[i, 1]))\n",
        "plt.show()"
      ],
      "metadata": {
        "colab": {
          "base_uri": "https://localhost:8080/",
          "height": 522
        },
        "id": "jtk5BoPPXGJa",
        "outputId": "35cb6cf7-7963-4c3b-8630-c03738574780"
      },
      "execution_count": 16,
      "outputs": [
        {
          "output_type": "display_data",
          "data": {
            "text/plain": [
              "<Figure size 800x600 with 1 Axes>"
            ],
            "image/png": "[encoded data removed]"
          },
          "metadata": {}
        }
      ]
    },
    {
      "cell_type": "code",
      "source": [
        "with gr.Blocks() as demo:\n",
        "    gr.Markdown(\"## 🧠 Word Embedding Playground\")\n",
        "\n",
        "    with gr.Tab(\"Word Vector\"):\n",
        "        word_in = gr.Textbox(label=\"Enter a word\")\n",
        "        word_out = gr.JSON(label=\"Vector\")\n",
        "        word_in.submit(word_vector, word_in, word_out)\n",
        "\n",
        "    with gr.Tab(\"Most Similar\"):\n",
        "        sim_in = gr.Textbox(label=\"Enter a word\")\n",
        "        sim_out = gr.JSON(label=\"Top 5 similar words\")\n",
        "        sim_in.submit(most_similar, sim_in, sim_out)\n",
        "\n",
        "    with gr.Tab(\"Analogy\"):\n",
        "        w1 = gr.Textbox(label=\"Word 1\")\n",
        "        w2 = gr.Textbox(label=\"Word 2 (to subtract)\")\n",
        "        w3 = gr.Textbox(label=\"Word 3\")\n",
        "        ana_out = gr.Textbox(label=\"Result\")\n",
        "        btn1 = gr.Button(\"Compute Analogy\")\n",
        "        btn1.click(analogy, [w1, w2, w3], ana_out)\n",
        "\n",
        "    with gr.Tab(\"Similarity\"):\n",
        "        s1 = gr.Textbox(label=\"Word 1\")\n",
        "        s2 = gr.Textbox(label=\"Word 2\")\n",
        "        simscore = gr.Textbox(label=\"Similarity Score\")\n",
        "        btn2 = gr.Button(\"Check Similarity\")\n",
        "        btn2.click(similarity, [s1, s2], simscore)\n",
        "\n",
        "    with gr.Tab(\"Visualization\"):\n",
        "        viz_btn = gr.Button(\"Show Embedding Plot\")\n",
        "        viz_img = gr.Image(label=\"2D PCA Projection\")\n",
        "        viz_btn.click(visualize, None, viz_img)"
      ],
      "metadata": {
        "id": "W4ts4BKuX4x6"
      },
      "execution_count": 17,
      "outputs": []
    },
    {
      "cell_type": "code",
      "source": [
        "demo.launch()"
      ],
      "metadata": {
        "id": "ZdUzZ2OPYDIa",
        "outputId": "0a5cde88-85ce-4cb4-a202-73ff12ddb485",
        "colab": {
          "base_uri": "https://localhost:8080/",
          "height": 648
        }
      },
      "execution_count": 18,
      "outputs": [
        {
          "output_type": "stream",
          "name": "stdout",
          "text": [
            "It looks like you are running Gradio on a hosted Jupyter notebook, which requires `share=True`. Automatically setting `share=True` (you can turn this off by setting `share=False` in `launch()` explicitly).\n",
            "\n",
            "Colab notebook detected. To show errors in colab notebook, set debug=True in launch()\n",
            "* Running on public URL: https://cfac9f9e76da82ac01.gradio.live\n",
            "\n",
            "This share link expires in 1 week. For free permanent hosting and GPU upgrades, run `gradio deploy` from the terminal in the working directory to deploy to Hugging Face Spaces (https://huggingface.co/spaces)\n"
          ]
        },
        {
          "output_type": "display_data",
          "data": {
            "text/plain": [
              "<IPython.core.display.HTML object>"
            ],
            "text/html": [
              "<div><iframe src=\"https://cfac9f9e76da82ac01.gradio.live\" width=\"100%\" height=\"500\" allow=\"autoplay; camera; microphone; clipboard-read; clipboard-write;\" frameborder=\"0\" allowfullscreen></iframe></div>"
            ]
          },
          "metadata": {}
        },
        {
          "output_type": "execute_result",
          "data": {
            "text/plain": []
          },
          "metadata": {},
          "execution_count": 18
        }
      ]
    }
  ]
}